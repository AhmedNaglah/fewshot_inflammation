{
 "cells": [
  {
   "cell_type": "code",
   "execution_count": 4,
   "metadata": {},
   "outputs": [],
   "source": [
    "import os\n",
    "\n",
    "basedir = '/orange/pinaki.sarder/ahmed.naglah/inflammation_project/qp_projects/QP_23SP-25338'\n",
    "\n",
    "landmark_ihc_file = f'{basedir}/105706_landmarks.geojson'\n",
    "landmark_he_file = f'{basedir}/105705_landmarks.geojson'\n",
    "\n",
    "ihc_anno_file = f'{basedir}/105706_dsa.json'\n",
    "\n",
    "he_anno_file_output = f'{basedir}/105705_transformed_dsa.json'"
   ]
  },
  {
   "cell_type": "code",
   "execution_count": 2,
   "metadata": {},
   "outputs": [],
   "source": [
    "import json\n",
    "import numpy as np\n",
    "import cv2\n",
    "\n",
    "# Function to load landmark points from GeoJSON\n",
    "def load_landmarks(geojson_path):\n",
    "    with open(geojson_path, 'r') as f:\n",
    "        data = json.load(f)\n",
    "    \n",
    "    landmarks = {}\n",
    "    for feature in data:\n",
    "        name = feature[\"properties\"][\"name\"]\n",
    "        coordinates = feature[\"geometry\"][\"coordinates\"]\n",
    "        landmarks[name] = coordinates  # Store as {name: [x, y]}\n",
    "    \n",
    "    return landmarks\n",
    "\n",
    "# Load landmarks from two GeoJSON files\n",
    "landmarks_img1 = load_landmarks(landmark_ihc_file)\n",
    "landmarks_img2 = load_landmarks(landmark_he_file)\n",
    "\n",
    "# Find matching points based on the 'name' field\n",
    "common_names = set(landmarks_img1.keys()) & set(landmarks_img2.keys())\n",
    "\n",
    "if len(common_names) < 3:\n",
    "    raise ValueError(\"At least 3 matching points are required for affine transformation.\")\n",
    "\n",
    "# Extract corresponding points\n",
    "src_pts = np.array([landmarks_img1[name] for name in common_names], dtype=np.float32)\n",
    "dst_pts = np.array([landmarks_img2[name] for name in common_names], dtype=np.float32)\n",
    "\n",
    "# Compute the affine transformation matrix\n",
    "affine_matrix, _ = cv2.estimateAffinePartial2D(src_pts, dst_pts)"
   ]
  },
  {
   "cell_type": "code",
   "execution_count": 3,
   "metadata": {},
   "outputs": [
    {
     "name": "stdout",
     "output_type": "stream",
     "text": [
      "[[ 1.01413744e+00 -6.92025918e-02  2.27428658e+03]\n",
      " [ 6.92025918e-02  1.01413744e+00 -2.65051162e+03]]\n"
     ]
    }
   ],
   "source": [
    "print(affine_matrix)"
   ]
  },
  {
   "cell_type": "code",
   "execution_count": 5,
   "metadata": {},
   "outputs": [
    {
     "name": "stdout",
     "output_type": "stream",
     "text": [
      "Transformation applied and saved to transformed_annotations.json\n"
     ]
    }
   ],
   "source": [
    "import json\n",
    "import numpy as np\n",
    "import cv2\n",
    "\n",
    "# Function to apply affine transformation to a set of points\n",
    "def apply_affine_transformation(points, affine_matrix):\n",
    "    points_array = np.array(points, dtype=np.float32)[:, :2]  # Ignore the third dimension (Z)\n",
    "    transformed_points = cv2.transform(np.array([points_array]), affine_matrix)[0]\n",
    "    transformed_points = np.hstack((transformed_points, np.zeros((transformed_points.shape[0], 1))))  # Restore third dimension\n",
    "    return transformed_points.tolist()\n",
    "\n",
    "# Function to load JSON annotation file\n",
    "def load_annotations(json_path):\n",
    "    with open(json_path, 'r') as f:\n",
    "        return json.load(f)\n",
    "\n",
    "# Function to save the transformed annotations back to JSON\n",
    "def save_annotations(json_path, annotations):\n",
    "    with open(json_path, 'w') as f:\n",
    "        json.dump(annotations, f, indent=4)\n",
    "\n",
    "# Load original annotations\n",
    "annotations = load_annotations(ihc_anno_file)\n",
    "\n",
    "# Apply transformation to all annotation points\n",
    "for annotation in annotations:\n",
    "    for element in annotation[\"elements\"]:\n",
    "        if \"points\" in element:\n",
    "            element[\"points\"] = apply_affine_transformation(element[\"points\"], affine_matrix)\n",
    "\n",
    "# Save the transformed annotations\n",
    "save_annotations(he_anno_file_output, annotations)\n",
    "\n",
    "print(\"Transformation applied and saved to transformed_annotations.json\")"
   ]
  },
  {
   "cell_type": "code",
   "execution_count": null,
   "metadata": {},
   "outputs": [],
   "source": []
  }
 ],
 "metadata": {
  "kernelspec": {
   "display_name": "wsi",
   "language": "python",
   "name": "python3"
  },
  "language_info": {
   "codemirror_mode": {
    "name": "ipython",
    "version": 3
   },
   "file_extension": ".py",
   "mimetype": "text/x-python",
   "name": "python",
   "nbconvert_exporter": "python",
   "pygments_lexer": "ipython3",
   "version": "3.10.10"
  }
 },
 "nbformat": 4,
 "nbformat_minor": 2
}
