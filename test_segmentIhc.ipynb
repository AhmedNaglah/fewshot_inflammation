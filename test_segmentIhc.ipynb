{
 "cells": [
  {
   "cell_type": "code",
   "execution_count": 8,
   "metadata": {},
   "outputs": [
    {
     "name": "stdout",
     "output_type": "stream",
     "text": [
      "STDOUT: >>>>>> segmentIhc: read svs file\n",
      "4\n",
      ">>>>>> segmentIhc: extract tissue mask\n",
      "(8291, 7469)\n",
      "(3397238, 3)\n",
      "(3397238,)\n",
      "(162, 63, array([144, 138, 151], dtype=uint8), 172)\n",
      ">>>>>> segmentIhc: segment chromogen\n",
      "(162, 63, array([144, 138, 151], dtype=uint8), 172, array([0], dtype=uint8))\n",
      ">>>>>> segmentIhc: post processing\n",
      "thre_area_min: 8000\n",
      ">>>>>> segmentIhc: saving to output file\n",
      ">>>>>> segmentIhc: DSA annotation file saved: /orange/pinaki.sarder/ahmed.naglah/inflammation_project/qp_projects/QP_23SP-20894/105691_dsa_test.json\n",
      "\n",
      "STDERR: \n"
     ]
    }
   ],
   "source": [
    "import subprocess\n",
    "\n",
    "def test_processSlide():\n",
    "    test_input = \"/orange/pinaki.sarder/ahmed.naglah/inflammation_project/qp_projects/QP_23SP-20894/105691.svs\"\n",
    "    test_output = \"/orange/pinaki.sarder/ahmed.naglah/inflammation_project/qp_projects/QP_23SP-20894/105691_dsa_test.json\"\n",
    "    test_thre_area_min = 8000\n",
    "    test_moving_window = 6\n",
    "    test_closing_size = 25\n",
    "\n",
    "    command = [\n",
    "        \"python\", \"segmentIhc.py\", \n",
    "        \"--input_path\", test_input, \n",
    "        \"--output_path\", test_output, \n",
    "        \"--thre_area_min\", str(test_thre_area_min),\n",
    "        \"--moving_window\", str(test_moving_window),\n",
    "        \"--closing_size\", str(test_closing_size)\n",
    "    ]\n",
    "    \n",
    "    result = subprocess.run(command, capture_output=True, text=True)\n",
    "    print(\"STDOUT:\", result.stdout)\n",
    "    print(\"STDERR:\", result.stderr)\n",
    "\n",
    "if __name__ == \"__main__\":\n",
    "    test_processSlide()\n"
   ]
  },
  {
   "cell_type": "code",
   "execution_count": null,
   "metadata": {},
   "outputs": [],
   "source": []
  }
 ],
 "metadata": {
  "kernelspec": {
   "display_name": "wsi",
   "language": "python",
   "name": "python3"
  },
  "language_info": {
   "codemirror_mode": {
    "name": "ipython",
    "version": 3
   },
   "file_extension": ".py",
   "mimetype": "text/x-python",
   "name": "python",
   "nbconvert_exporter": "python",
   "pygments_lexer": "ipython3",
   "version": "3.10.10"
  }
 },
 "nbformat": 4,
 "nbformat_minor": 2
}
