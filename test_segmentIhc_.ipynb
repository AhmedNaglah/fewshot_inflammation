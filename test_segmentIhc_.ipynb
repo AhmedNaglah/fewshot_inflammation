{
 "cells": [
  {
   "cell_type": "code",
   "execution_count": 4,
   "metadata": {},
   "outputs": [
    {
     "name": "stdout",
     "output_type": "stream",
     "text": [
      "Running test case # 1\n",
      "Running test case # 2\n",
      "Running test case # 3\n",
      "Running test case # 4\n",
      "Running test case # 5\n",
      "Running test case # 6\n",
      "Running test case # 7\n",
      "Running test case # 8\n",
      "Running test case # 9\n",
      "Running test case # 10\n",
      "Running test case # 11\n",
      "Running test case # 12\n",
      "Running test case # 13\n",
      "Running test case # 14\n"
     ]
    }
   ],
   "source": [
    "import subprocess\n",
    "import json\n",
    "import os\n",
    "\n",
    "def test_process_slide(test_case):\n",
    "    \n",
    "    command = [\n",
    "        \"python\", \"segmentIhc.py\",  \n",
    "        \"--input_path\", test_case[\"input\"],\n",
    "        \"--output_path\", test_case[\"output\"],\n",
    "        \"--thre_area_min\", str(test_case[\"thre_area_min\"]),\n",
    "        \"--moving_window\", str(test_case[\"moving_window\"]),\n",
    "        \"--closing_size\", str(test_case[\"closing_size\"])\n",
    "    ]\n",
    "\n",
    "    result = subprocess.run(command, capture_output=True, text=True)\n",
    "\n",
    "    log_file = f\"logs/{os.path.basename(test_case['input'])}.log\"\n",
    "    os.makedirs(\"logs\", exist_ok=True)\n",
    "    with open(log_file, \"w\") as log:\n",
    "        log.write(f\"STDOUT:\\n{result.stdout}\\nSTDERR:\\n{result.stderr}\\n\")\n",
    "\n",
    "    assert os.path.exists(test_case[\"output\"]), f\"Output file {test_case['output']} not found!\"\n",
    "    \n",
    "    with open(test_case[\"output\"], \"r\") as f:\n",
    "        output_data = json.load(f)\n",
    "        assert \"elements\" in output_data, \"Invalid output JSON structure!\"\n",
    "\n",
    "def main():\n",
    "    with open(\"./data/ihc_hyperparameters.json\", \"r\") as f:\n",
    "        test_cases = json.load(f)\n",
    "\n",
    "    for i in range(len(test_cases)):\n",
    "        print(f\"Running test case # {i+1}\")\n",
    "        test_case = test_cases[i]\n",
    "        test_process_slide(test_case)\n",
    "\n",
    "main()"
   ]
  },
  {
   "cell_type": "code",
   "execution_count": null,
   "metadata": {},
   "outputs": [],
   "source": []
  }
 ],
 "metadata": {
  "kernelspec": {
   "display_name": "wsi",
   "language": "python",
   "name": "python3"
  },
  "language_info": {
   "codemirror_mode": {
    "name": "ipython",
    "version": 3
   },
   "file_extension": ".py",
   "mimetype": "text/x-python",
   "name": "python",
   "nbconvert_exporter": "python",
   "pygments_lexer": "ipython3",
   "version": "3.10.10"
  }
 },
 "nbformat": 4,
 "nbformat_minor": 2
}
